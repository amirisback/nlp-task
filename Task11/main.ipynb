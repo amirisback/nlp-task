{
 "nbformat": 4,
 "nbformat_minor": 0,
 "metadata": {
  "colab": {
   "name": "alignment.ipynb",
   "provenance": [],
   "collapsed_sections": []
  },
  "kernelspec": {
   "name": "python3",
   "language": "python",
   "display_name": "Python 3"
  }
 },
 "cells": [
  {
   "cell_type": "markdown",
   "metadata": {
    "id": "5QLIOrO4lY29"
   },
   "source": [
    "Tutorial Machine Translation dengan NLTK\n",
    "\n",
    "sumber: https://notebook.community/dcavar/python-tutorial-for-ipython/notebooks/Machine%20Translation%20in%20Python%203%20with%20NLTK"
   ]
  },
  {
   "cell_type": "markdown",
   "metadata": {
    "id": "Azv2CQ3nlhqY"
   },
   "source": [
    "Import library yang diperlukan dan unduh korpus paralel comtrans"
   ]
  },
  {
   "cell_type": "code",
   "metadata": {
    "colab": {
     "base_uri": "https://localhost:8080/"
    },
    "id": "uHT2qNaosulY",
    "outputId": "3a934cda-d15f-4cc9-b3db-6513bb2c49f2"
   },
   "source": [
    "import nltk\n",
    "nltk.download('comtrans')"
   ],
   "execution_count": 61,
   "outputs": [
    {
     "name": "stderr",
     "output_type": "stream",
     "text": [
      "[nltk_data] Downloading package comtrans to C:\\Users\\Faisal\n",
      "[nltk_data]     Amir\\AppData\\Roaming\\nltk_data...\n",
      "[nltk_data]   Package comtrans is already up-to-date!\n"
     ]
    },
    {
     "data": {
      "text/plain": "True"
     },
     "execution_count": 61,
     "metadata": {},
     "output_type": "execute_result"
    }
   ]
  },
  {
   "cell_type": "code",
   "metadata": {
    "id": "XEGVIMr8sWrc"
   },
   "source": [
    "from nltk.corpus import comtrans"
   ],
   "execution_count": 62,
   "outputs": []
  },
  {
   "cell_type": "markdown",
   "metadata": {
    "id": "k5kwHPwylnWw"
   },
   "source": [
    "Korpus paralel yang akan digunakan di contoh ini adalah alignment dari teks bahasa Inggris ke teks Bahasa Perancis"
   ]
  },
  {
   "cell_type": "code",
   "metadata": {
    "id": "Rz9US-U0sma2"
   },
   "source": [
    "words = comtrans.words(\"alignment-en-fr.txt\")"
   ],
   "execution_count": 63,
   "outputs": []
  },
  {
   "cell_type": "markdown",
   "metadata": {
    "id": "rcxCQibWlvYA"
   },
   "source": [
    "Coba cek 20 kata pertama di korpus paralel"
   ]
  },
  {
   "cell_type": "code",
   "metadata": {
    "colab": {
     "base_uri": "https://localhost:8080/"
    },
    "id": "sECUcRUTs4Wf",
    "outputId": "e0842312-5f22-411f-e87b-b554c95eef30"
   },
   "source": [
    "for word in words[:20]:\n",
    "    print(word)"
   ],
   "execution_count": 64,
   "outputs": [
    {
     "name": "stdout",
     "output_type": "stream",
     "text": [
      "Resumption\n",
      "of\n",
      "the\n",
      "session\n",
      "I\n",
      "declare\n",
      "resumed\n",
      "the\n",
      "session\n",
      "of\n",
      "the\n",
      "European\n",
      "Parliament\n",
      "adjourned\n",
      "on\n",
      "Friday\n",
      "17\n",
      "December\n",
      "1999\n",
      ",\n"
     ]
    }
   ]
  },
  {
   "cell_type": "markdown",
   "metadata": {
    "id": "M3r93Xjdlz3T"
   },
   "source": [
    "Coba cek alignment pertama dari korpus paralel"
   ]
  },
  {
   "cell_type": "code",
   "metadata": {
    "id": "FDXnBw3ftEdh"
   },
   "source": [
    "als = comtrans.aligned_sents(\"alignment-en-fr.txt\")[0]"
   ],
   "execution_count": 65,
   "outputs": []
  },
  {
   "cell_type": "markdown",
   "metadata": {
    "id": "v7XdBIWkl5u3"
   },
   "source": [
    "Tampilkan teks bahasa sumber dan alignment teks bahasa target"
   ]
  },
  {
   "cell_type": "code",
   "metadata": {
    "colab": {
     "base_uri": "https://localhost:8080/"
    },
    "id": "QSJvbRw7tGKr",
    "outputId": "a11010a1-fcba-4ad7-ce53-f0699e768483"
   },
   "source": [
    "print(\" \".join(als.words))\n",
    "print(\" \".join(als.mots))"
   ],
   "execution_count": 66,
   "outputs": [
    {
     "name": "stdout",
     "output_type": "stream",
     "text": [
      "Resumption of the session\n",
      "Reprise de la session\n"
     ]
    }
   ]
  },
  {
   "cell_type": "markdown",
   "metadata": {
    "id": "WRcpzJcKl_7g"
   },
   "source": [
    "Cek indeks alignment"
   ]
  },
  {
   "cell_type": "code",
   "metadata": {
    "colab": {
     "base_uri": "https://localhost:8080/"
    },
    "id": "aloSn8YytQk4",
    "outputId": "28bc7ed8-1d07-44cf-fe02-59bf11e0ffb4"
   },
   "source": [
    "als.alignment"
   ],
   "execution_count": 67,
   "outputs": [
    {
     "data": {
      "text/plain": "Alignment([(0, 0), (1, 1), (2, 2), (3, 3)])"
     },
     "execution_count": 67,
     "metadata": {},
     "output_type": "execute_result"
    }
   ]
  },
  {
   "cell_type": "markdown",
   "metadata": {
    "id": "bLCT5gcnmDF_"
   },
   "source": [
    "Visualisasikan alignment"
   ]
  },
  {
   "cell_type": "code",
   "metadata": {
    "colab": {
     "base_uri": "https://localhost:8080/",
     "height": 175
    },
    "id": "HjDMLrCqtTJw",
    "outputId": "42036556-e21e-4a20-d9db-acd2f5192e00"
   },
   "source": [
    "als.invert()"
   ],
   "execution_count": 68,
   "outputs": [
    {
     "ename": "Exception",
     "evalue": "Cannot find the dot binary from Graphviz package",
     "output_type": "error",
     "traceback": [
      "\u001B[1;31m---------------------------------------------------------------------------\u001B[0m",
      "\u001B[1;31mFileNotFoundError\u001B[0m                         Traceback (most recent call last)",
      "\u001B[1;32md:\\python3.7\\lib\\site-packages\\nltk\\translate\\api.py\u001B[0m in \u001B[0;36m_repr_svg_\u001B[1;34m(self)\u001B[0m\n\u001B[0;32m    134\u001B[0m                 \u001B[0mstdout\u001B[0m\u001B[1;33m=\u001B[0m\u001B[0msubprocess\u001B[0m\u001B[1;33m.\u001B[0m\u001B[0mPIPE\u001B[0m\u001B[1;33m,\u001B[0m\u001B[1;33m\u001B[0m\u001B[0m\n\u001B[1;32m--> 135\u001B[1;33m                 \u001B[0mstderr\u001B[0m\u001B[1;33m=\u001B[0m\u001B[0msubprocess\u001B[0m\u001B[1;33m.\u001B[0m\u001B[0mPIPE\u001B[0m\u001B[1;33m,\u001B[0m\u001B[1;33m\u001B[0m\u001B[0m\n\u001B[0m\u001B[0;32m    136\u001B[0m             )\n",
      "\u001B[1;32md:\\python3.7\\lib\\subprocess.py\u001B[0m in \u001B[0;36m__init__\u001B[1;34m(self, args, bufsize, executable, stdin, stdout, stderr, preexec_fn, close_fds, shell, cwd, env, universal_newlines, startupinfo, creationflags, restore_signals, start_new_session, pass_fds, encoding, errors, text)\u001B[0m\n\u001B[0;32m    755\u001B[0m                                 \u001B[0merrread\u001B[0m\u001B[1;33m,\u001B[0m \u001B[0merrwrite\u001B[0m\u001B[1;33m,\u001B[0m\u001B[1;33m\u001B[0m\u001B[0m\n\u001B[1;32m--> 756\u001B[1;33m                                 restore_signals, start_new_session)\n\u001B[0m\u001B[0;32m    757\u001B[0m         \u001B[1;32mexcept\u001B[0m\u001B[1;33m:\u001B[0m\u001B[1;33m\u001B[0m\u001B[0m\n",
      "\u001B[1;32md:\\python3.7\\lib\\subprocess.py\u001B[0m in \u001B[0;36m_execute_child\u001B[1;34m(self, args, executable, preexec_fn, close_fds, pass_fds, cwd, env, startupinfo, creationflags, shell, p2cread, p2cwrite, c2pread, c2pwrite, errread, errwrite, unused_restore_signals, unused_start_new_session)\u001B[0m\n\u001B[0;32m   1154\u001B[0m                                          \u001B[0mos\u001B[0m\u001B[1;33m.\u001B[0m\u001B[0mfspath\u001B[0m\u001B[1;33m(\u001B[0m\u001B[0mcwd\u001B[0m\u001B[1;33m)\u001B[0m \u001B[1;32mif\u001B[0m \u001B[0mcwd\u001B[0m \u001B[1;32mis\u001B[0m \u001B[1;32mnot\u001B[0m \u001B[1;32mNone\u001B[0m \u001B[1;32melse\u001B[0m \u001B[1;32mNone\u001B[0m\u001B[1;33m,\u001B[0m\u001B[1;33m\u001B[0m\u001B[0m\n\u001B[1;32m-> 1155\u001B[1;33m                                          startupinfo)\n\u001B[0m\u001B[0;32m   1156\u001B[0m             \u001B[1;32mfinally\u001B[0m\u001B[1;33m:\u001B[0m\u001B[1;33m\u001B[0m\u001B[0m\n",
      "\u001B[1;31mFileNotFoundError\u001B[0m: [WinError 2] The system cannot find the file specified",
      "\nDuring handling of the above exception, another exception occurred:\n",
      "\u001B[1;31mException\u001B[0m                                 Traceback (most recent call last)",
      "\u001B[1;32md:\\python3.7\\lib\\site-packages\\IPython\\core\\formatters.py\u001B[0m in \u001B[0;36m__call__\u001B[1;34m(self, obj)\u001B[0m\n\u001B[0;32m    343\u001B[0m             \u001B[0mmethod\u001B[0m \u001B[1;33m=\u001B[0m \u001B[0mget_real_method\u001B[0m\u001B[1;33m(\u001B[0m\u001B[0mobj\u001B[0m\u001B[1;33m,\u001B[0m \u001B[0mself\u001B[0m\u001B[1;33m.\u001B[0m\u001B[0mprint_method\u001B[0m\u001B[1;33m)\u001B[0m\u001B[1;33m\u001B[0m\u001B[0m\n\u001B[0;32m    344\u001B[0m             \u001B[1;32mif\u001B[0m \u001B[0mmethod\u001B[0m \u001B[1;32mis\u001B[0m \u001B[1;32mnot\u001B[0m \u001B[1;32mNone\u001B[0m\u001B[1;33m:\u001B[0m\u001B[1;33m\u001B[0m\u001B[0m\n\u001B[1;32m--> 345\u001B[1;33m                 \u001B[1;32mreturn\u001B[0m \u001B[0mmethod\u001B[0m\u001B[1;33m(\u001B[0m\u001B[1;33m)\u001B[0m\u001B[1;33m\u001B[0m\u001B[0m\n\u001B[0m\u001B[0;32m    346\u001B[0m             \u001B[1;32mreturn\u001B[0m \u001B[1;32mNone\u001B[0m\u001B[1;33m\u001B[0m\u001B[0m\n\u001B[0;32m    347\u001B[0m         \u001B[1;32melse\u001B[0m\u001B[1;33m:\u001B[0m\u001B[1;33m\u001B[0m\u001B[0m\n",
      "\u001B[1;32md:\\python3.7\\lib\\site-packages\\nltk\\translate\\api.py\u001B[0m in \u001B[0;36m_repr_svg_\u001B[1;34m(self)\u001B[0m\n\u001B[0;32m    136\u001B[0m             )\n\u001B[0;32m    137\u001B[0m         \u001B[1;32mexcept\u001B[0m \u001B[0mOSError\u001B[0m\u001B[1;33m:\u001B[0m\u001B[1;33m\u001B[0m\u001B[0m\n\u001B[1;32m--> 138\u001B[1;33m             \u001B[1;32mraise\u001B[0m \u001B[0mException\u001B[0m\u001B[1;33m(\u001B[0m\u001B[1;34m\"Cannot find the dot binary from Graphviz package\"\u001B[0m\u001B[1;33m)\u001B[0m\u001B[1;33m\u001B[0m\u001B[0m\n\u001B[0m\u001B[0;32m    139\u001B[0m         \u001B[0mout\u001B[0m\u001B[1;33m,\u001B[0m \u001B[0merr\u001B[0m \u001B[1;33m=\u001B[0m \u001B[0mprocess\u001B[0m\u001B[1;33m.\u001B[0m\u001B[0mcommunicate\u001B[0m\u001B[1;33m(\u001B[0m\u001B[0mdot_string\u001B[0m\u001B[1;33m)\u001B[0m\u001B[1;33m\u001B[0m\u001B[0m\n\u001B[0;32m    140\u001B[0m \u001B[1;33m\u001B[0m\u001B[0m\n",
      "\u001B[1;31mException\u001B[0m: Cannot find the dot binary from Graphviz package"
     ]
    },
    {
     "data": {
      "text/plain": "AlignedSent(['Reprise', 'de', 'la', 'session'], ['Resumption', 'of', 'the', 'session'], Alignment([(0, 0), (1, 1), (2, 2), (3, 3)]))"
     },
     "execution_count": 68,
     "metadata": {},
     "output_type": "execute_result"
    }
   ]
  },
  {
   "cell_type": "markdown",
   "metadata": {
    "id": "p9K3Jy1FmHUK"
   },
   "source": [
    "Kita juga bisa mendefinisikan alignment sendiri, seperti contoh berikut:"
   ]
  },
  {
   "cell_type": "code",
   "metadata": {
    "id": "vECBwMbBwAeg"
   },
   "source": [
    "from nltk.translate import Alignment, AlignedSent"
   ],
   "execution_count": 69,
   "outputs": []
  },
  {
   "cell_type": "code",
   "metadata": {
    "id": "wsBB4A8hwCIV"
   },
   "source": [
    "als = AlignedSent( [\"Reprise\", \"de\", \"la\", \"session\" ], \\\n",
    "    [\"Resumption\", \"of\", \"the\", \"session\" ] , \\\n",
    "    Alignment( [ (0 , 0), (1 , 1), (2 , 2), (3 , 3) ] ) )"
   ],
   "execution_count": 70,
   "outputs": []
  },
  {
   "cell_type": "markdown",
   "metadata": {
    "id": "K59XOHYAmM_3"
   },
   "source": [
    "Visualisasikan alignment yang didefinisikan sendiri"
   ]
  },
  {
   "cell_type": "code",
   "metadata": {
    "id": "PjnIiw9BwM5C",
    "colab": {
     "base_uri": "https://localhost:8080/",
     "height": 175
    },
    "outputId": "09993b9d-a6bc-4b2b-dded-64364a0a14cd"
   },
   "source": [
    "als.invert()"
   ],
   "execution_count": 71,
   "outputs": [
    {
     "ename": "Exception",
     "evalue": "Cannot find the dot binary from Graphviz package",
     "output_type": "error",
     "traceback": [
      "\u001B[1;31m---------------------------------------------------------------------------\u001B[0m",
      "\u001B[1;31mFileNotFoundError\u001B[0m                         Traceback (most recent call last)",
      "\u001B[1;32md:\\python3.7\\lib\\site-packages\\nltk\\translate\\api.py\u001B[0m in \u001B[0;36m_repr_svg_\u001B[1;34m(self)\u001B[0m\n\u001B[0;32m    134\u001B[0m                 \u001B[0mstdout\u001B[0m\u001B[1;33m=\u001B[0m\u001B[0msubprocess\u001B[0m\u001B[1;33m.\u001B[0m\u001B[0mPIPE\u001B[0m\u001B[1;33m,\u001B[0m\u001B[1;33m\u001B[0m\u001B[0m\n\u001B[1;32m--> 135\u001B[1;33m                 \u001B[0mstderr\u001B[0m\u001B[1;33m=\u001B[0m\u001B[0msubprocess\u001B[0m\u001B[1;33m.\u001B[0m\u001B[0mPIPE\u001B[0m\u001B[1;33m,\u001B[0m\u001B[1;33m\u001B[0m\u001B[0m\n\u001B[0m\u001B[0;32m    136\u001B[0m             )\n",
      "\u001B[1;32md:\\python3.7\\lib\\subprocess.py\u001B[0m in \u001B[0;36m__init__\u001B[1;34m(self, args, bufsize, executable, stdin, stdout, stderr, preexec_fn, close_fds, shell, cwd, env, universal_newlines, startupinfo, creationflags, restore_signals, start_new_session, pass_fds, encoding, errors, text)\u001B[0m\n\u001B[0;32m    755\u001B[0m                                 \u001B[0merrread\u001B[0m\u001B[1;33m,\u001B[0m \u001B[0merrwrite\u001B[0m\u001B[1;33m,\u001B[0m\u001B[1;33m\u001B[0m\u001B[0m\n\u001B[1;32m--> 756\u001B[1;33m                                 restore_signals, start_new_session)\n\u001B[0m\u001B[0;32m    757\u001B[0m         \u001B[1;32mexcept\u001B[0m\u001B[1;33m:\u001B[0m\u001B[1;33m\u001B[0m\u001B[0m\n",
      "\u001B[1;32md:\\python3.7\\lib\\subprocess.py\u001B[0m in \u001B[0;36m_execute_child\u001B[1;34m(self, args, executable, preexec_fn, close_fds, pass_fds, cwd, env, startupinfo, creationflags, shell, p2cread, p2cwrite, c2pread, c2pwrite, errread, errwrite, unused_restore_signals, unused_start_new_session)\u001B[0m\n\u001B[0;32m   1154\u001B[0m                                          \u001B[0mos\u001B[0m\u001B[1;33m.\u001B[0m\u001B[0mfspath\u001B[0m\u001B[1;33m(\u001B[0m\u001B[0mcwd\u001B[0m\u001B[1;33m)\u001B[0m \u001B[1;32mif\u001B[0m \u001B[0mcwd\u001B[0m \u001B[1;32mis\u001B[0m \u001B[1;32mnot\u001B[0m \u001B[1;32mNone\u001B[0m \u001B[1;32melse\u001B[0m \u001B[1;32mNone\u001B[0m\u001B[1;33m,\u001B[0m\u001B[1;33m\u001B[0m\u001B[0m\n\u001B[1;32m-> 1155\u001B[1;33m                                          startupinfo)\n\u001B[0m\u001B[0;32m   1156\u001B[0m             \u001B[1;32mfinally\u001B[0m\u001B[1;33m:\u001B[0m\u001B[1;33m\u001B[0m\u001B[0m\n",
      "\u001B[1;31mFileNotFoundError\u001B[0m: [WinError 2] The system cannot find the file specified",
      "\nDuring handling of the above exception, another exception occurred:\n",
      "\u001B[1;31mException\u001B[0m                                 Traceback (most recent call last)",
      "\u001B[1;32md:\\python3.7\\lib\\site-packages\\IPython\\core\\formatters.py\u001B[0m in \u001B[0;36m__call__\u001B[1;34m(self, obj)\u001B[0m\n\u001B[0;32m    343\u001B[0m             \u001B[0mmethod\u001B[0m \u001B[1;33m=\u001B[0m \u001B[0mget_real_method\u001B[0m\u001B[1;33m(\u001B[0m\u001B[0mobj\u001B[0m\u001B[1;33m,\u001B[0m \u001B[0mself\u001B[0m\u001B[1;33m.\u001B[0m\u001B[0mprint_method\u001B[0m\u001B[1;33m)\u001B[0m\u001B[1;33m\u001B[0m\u001B[0m\n\u001B[0;32m    344\u001B[0m             \u001B[1;32mif\u001B[0m \u001B[0mmethod\u001B[0m \u001B[1;32mis\u001B[0m \u001B[1;32mnot\u001B[0m \u001B[1;32mNone\u001B[0m\u001B[1;33m:\u001B[0m\u001B[1;33m\u001B[0m\u001B[0m\n\u001B[1;32m--> 345\u001B[1;33m                 \u001B[1;32mreturn\u001B[0m \u001B[0mmethod\u001B[0m\u001B[1;33m(\u001B[0m\u001B[1;33m)\u001B[0m\u001B[1;33m\u001B[0m\u001B[0m\n\u001B[0m\u001B[0;32m    346\u001B[0m             \u001B[1;32mreturn\u001B[0m \u001B[1;32mNone\u001B[0m\u001B[1;33m\u001B[0m\u001B[0m\n\u001B[0;32m    347\u001B[0m         \u001B[1;32melse\u001B[0m\u001B[1;33m:\u001B[0m\u001B[1;33m\u001B[0m\u001B[0m\n",
      "\u001B[1;32md:\\python3.7\\lib\\site-packages\\nltk\\translate\\api.py\u001B[0m in \u001B[0;36m_repr_svg_\u001B[1;34m(self)\u001B[0m\n\u001B[0;32m    136\u001B[0m             )\n\u001B[0;32m    137\u001B[0m         \u001B[1;32mexcept\u001B[0m \u001B[0mOSError\u001B[0m\u001B[1;33m:\u001B[0m\u001B[1;33m\u001B[0m\u001B[0m\n\u001B[1;32m--> 138\u001B[1;33m             \u001B[1;32mraise\u001B[0m \u001B[0mException\u001B[0m\u001B[1;33m(\u001B[0m\u001B[1;34m\"Cannot find the dot binary from Graphviz package\"\u001B[0m\u001B[1;33m)\u001B[0m\u001B[1;33m\u001B[0m\u001B[0m\n\u001B[0m\u001B[0;32m    139\u001B[0m         \u001B[0mout\u001B[0m\u001B[1;33m,\u001B[0m \u001B[0merr\u001B[0m \u001B[1;33m=\u001B[0m \u001B[0mprocess\u001B[0m\u001B[1;33m.\u001B[0m\u001B[0mcommunicate\u001B[0m\u001B[1;33m(\u001B[0m\u001B[0mdot_string\u001B[0m\u001B[1;33m)\u001B[0m\u001B[1;33m\u001B[0m\u001B[0m\n\u001B[0;32m    140\u001B[0m \u001B[1;33m\u001B[0m\u001B[0m\n",
      "\u001B[1;31mException\u001B[0m: Cannot find the dot binary from Graphviz package"
     ]
    },
    {
     "data": {
      "text/plain": "AlignedSent(['Resumption', 'of', 'the', 'session'], ['Reprise', 'de', 'la', 'session'], Alignment([(0, 0), (1, 1), (2, 2), (3, 3)]))"
     },
     "execution_count": 71,
     "metadata": {},
     "output_type": "execute_result"
    }
   ]
  },
  {
   "cell_type": "markdown",
   "metadata": {
    "id": "W2B6nJJymQBP"
   },
   "source": [
    "Coba melakukan pelatihan alignment dengan metode IBMModel1"
   ]
  },
  {
   "cell_type": "code",
   "metadata": {
    "id": "e6PPxJTWwRSS"
   },
   "source": [
    "from nltk.translate import IBMModel1"
   ],
   "execution_count": 72,
   "outputs": []
  },
  {
   "cell_type": "markdown",
   "metadata": {
    "id": "aLm8bE30mUvw"
   },
   "source": [
    "Korpus paralel untuk pelatihan diambil dari 10 alignment pertama dari korpus paralel, dengan iterasi sejumlah 100"
   ]
  },
  {
   "cell_type": "code",
   "metadata": {
    "id": "-kEJAbKKwXo2"
   },
   "source": [
    "com_ibm1 = IBMModel1(comtrans.aligned_sents()[:10], 100)"
   ],
   "execution_count": 73,
   "outputs": []
  },
  {
   "cell_type": "markdown",
   "metadata": {
    "id": "pU9e2GeembqN"
   },
   "source": [
    "Coba cek skor probability alignment 2 kata"
   ]
  },
  {
   "cell_type": "code",
   "metadata": {
    "colab": {
     "base_uri": "https://localhost:8080/"
    },
    "id": "NdR6wLndweRv",
    "outputId": "98f6ce57-04bb-4f0d-b1ea-a8759bb1c5a4"
   },
   "source": [
    "print(round(com_ibm1.translation_table[\"bitte\"][\"Please\"], 3) )"
   ],
   "execution_count": 74,
   "outputs": [
    {
     "name": "stdout",
     "output_type": "stream",
     "text": [
      "0.248\n"
     ]
    }
   ]
  },
  {
   "cell_type": "markdown",
   "metadata": {
    "id": "JOTXQF0cmgCv"
   },
   "source": [
    "Coba cek skor probability alignment 2 kata"
   ]
  },
  {
   "cell_type": "code",
   "metadata": {
    "colab": {
     "base_uri": "https://localhost:8080/"
    },
    "id": "VYbvMzGvwi5a",
    "outputId": "cbf28672-5fa7-4d7c-910a-f282517cd5d9"
   },
   "source": [
    "print(round(com_ibm1.translation_table[\"Sitzungsperiode\"][\"session\"] , 3) )"
   ],
   "execution_count": 75,
   "outputs": [
    {
     "name": "stdout",
     "output_type": "stream",
     "text": [
      "1.0\n"
     ]
    }
   ]
  },
  {
   "cell_type": "markdown",
   "metadata": {
    "id": "AhaQjk-Ami45"
   },
   "source": [
    "Kita dapat mendefinisikan sendiri korpus paralel yang berisi alignment"
   ]
  },
  {
   "cell_type": "code",
   "metadata": {
    "id": "zcFpifKy2WxC"
   },
   "source": [
    "text = []\n",
    "text.append(AlignedSent(['kain', 'itu', 'tipis'], ['kaen', 'iku', 'ipis']))\n",
    "text.append(AlignedSent(['pohon', 'itu', 'sangat', 'tinggi'], ['tangkal', 'iku', 'mani', 'jangkung']))\n",
    "text.append(AlignedSent(['ruangan', 'ini', 'sempit'], ['rohangan', 'iki', 'sereg']))\n",
    "text.append(AlignedSent(['buku', 'itu', 'rapi'], ['buku', 'iku', 'entep']))\n",
    "text.append(AlignedSent(['kebun', 'ini', 'luas'], ['kebon', 'iki', 'lega']))\n",
    "text.append(AlignedSent(['tali', 'ini', 'panjang'], ['tali', 'iki', 'panyang']))\n",
    "text.append(AlignedSent(['kucing', 'itu', 'kotor'], ['ucing', 'iku', 'kotor']))\n",
    "text.append(AlignedSent(['pohon', 'itu', 'berbuah', 'lebat'], ['tangkal', 'iku', 'buahna', 'leubeut']))\n",
    "text.append(AlignedSent(['motor', 'itu', 'sangat', 'bagus'], ['motor', 'iku', 'pisan', 'alus']))\n",
    "text.append(AlignedSent(['harganya', 'sangat', 'mahal'], ['hargana', 'pisan', 'mahal']))\n",
    "text.append(AlignedSent(['celana', 'itu', 'dari', 'bandung'], ['calana', 'iku', 'teko', 'bandung']))\n",
    "text.append(AlignedSent(['hewan', 'ini', 'kurus'], ['sato', 'iki', 'begang']))\n",
    "text.append(AlignedSent(['rumah', 'ini', 'besar'], ['omah', 'iki', 'gede']))\n",
    "text.append(AlignedSent(['warung', 'ini', 'kecil'], ['warung', 'iki', 'cilik']))\n",
    "text.append(AlignedSent(['penggaris', 'ini', 'pendek'], ['jidar', 'iki', 'pondok']))\n",
    "text.append(AlignedSent(['sepatu', 'itu', 'sangat', 'bersih'], ['sapatu', 'iku', 'pisan', 'beresih']))\n",
    "text.append(AlignedSent(['mobil', 'itu', 'berwarna', 'merah'], ['mobil', 'iku', 'warna','beureum']))\n",
    "text.append(AlignedSent(['pintu', 'itu', 'tertutup'], ['panto', 'iku', 'katutup']))\n",
    "text.append(AlignedSent(['baju', 'itu', 'kusut'], ['baju', 'iku', 'karijut']))\n",
    "text.append(AlignedSent(['kaca', 'itu', 'sangat', 'tebal'], ['kaca', 'iku', 'pisan', 'kandel']))\n"
   ],
   "execution_count": 76,
   "outputs": []
  },
  {
   "cell_type": "markdown",
   "metadata": {
    "id": "jFJnqAyMmn5f"
   },
   "source": [
    "Coba lakukan pelatihan dari korpus yang didefinisikan sendiri"
   ]
  },
  {
   "cell_type": "code",
   "metadata": {
    "id": "uKxRW5HX3eZP"
   },
   "source": [
    "com_ibm1 = IBMModel1(text, 5)"
   ],
   "execution_count": 77,
   "outputs": []
  },
  {
   "cell_type": "markdown",
   "metadata": {
    "id": "agwCFSvrmrPP"
   },
   "source": [
    "Coba cek skor probability alignment 2 kata"
   ]
  },
  {
   "cell_type": "code",
   "metadata": {
    "colab": {
     "base_uri": "https://localhost:8080/"
    },
    "id": "zhbZ4wVV3nDg",
    "outputId": "cd299d41-678e-468d-b4bd-c69384406fef"
   },
   "source": [
    "print(round(com_ibm1.translation_table[\"mobil\"][\"mobil\"], 3) )"
   ],
   "execution_count": 78,
   "outputs": [
    {
     "name": "stdout",
     "output_type": "stream",
     "text": [
      "0.324\n"
     ]
    }
   ]
  },
  {
   "cell_type": "markdown",
   "metadata": {
    "id": "cXQMpPJfmuih"
   },
   "source": [
    "Coba cek skor probability alignment 2 kata"
   ]
  },
  {
   "cell_type": "code",
   "metadata": {
    "colab": {
     "base_uri": "https://localhost:8080/"
    },
    "id": "S0wHZGU04RNy",
    "outputId": "504df2fa-69ab-435a-b2f4-056d1fe3c847"
   },
   "source": [
    "print(round(com_ibm1.translation_table[\"rumah\"][\"omah\"], 3) )"
   ],
   "execution_count": 79,
   "outputs": [
    {
     "name": "stdout",
     "output_type": "stream",
     "text": [
      "0.465\n"
     ]
    }
   ]
  },
  {
   "cell_type": "code",
   "metadata": {
    "id": "jGVfoJcnRSkf",
    "outputId": "bb152194-bcef-4c88-99cc-68715281936e",
    "colab": {
     "base_uri": "https://localhost:8080/"
    }
   },
   "source": [
    "print(round(com_ibm1.translation_table[\"buku\"][\"buku\"], 3) )"
   ],
   "execution_count": 80,
   "outputs": [
    {
     "name": "stdout",
     "output_type": "stream",
     "text": [
      "0.482\n"
     ]
    }
   ]
  }
 ]
}