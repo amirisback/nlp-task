{
 "nbformat": 4,
 "nbformat_minor": 0,
 "metadata": {
  "colab": {
   "name": "eksplorasi_constituency_parser.ipynb",
   "provenance": []
  },
  "kernelspec": {
   "name": "python3",
   "language": "python",
   "display_name": "Python 3"
  }
 },
 "cells": [
  {
   "cell_type": "markdown",
   "metadata": {
    "id": "DDsfA7QmybXY"
   },
   "source": [
    "Tutorial Pekan Keenam, Constituency Parser.\n",
    "\n",
    "sumber: \n",
    "\n",
    "http://www.nltk.org/howto/parse.html\n",
    "\n",
    "http://www.nltk.org/howto/generate.html\n",
    "\n",
    "https://markgw.github.io/uh-nlp19/day4/\n"
   ]
  },
  {
   "cell_type": "markdown",
   "metadata": {
    "id": "X2odzFU7Y4_y"
   },
   "source": [
    "Import library yang dibutuhkan"
   ]
  },
  {
   "cell_type": "code",
   "metadata": {
    "id": "QjY3SEYQybA8",
    "executionInfo": {
     "status": "ok",
     "timestamp": 1602754026506,
     "user_tz": -420,
     "elapsed": 2778,
     "user": {
      "displayName": "Ade Romadhony",
      "photoUrl": "",
      "userId": "13608730481408932644"
     }
    }
   },
   "source": [
    "import nltk\n",
    "from nltk.parse.generate import generate\n",
    "from nltk.parse import ViterbiParser"
   ],
   "execution_count": 1,
   "outputs": []
  },
  {
   "cell_type": "markdown",
   "metadata": {
    "id": "z169-2pJY-WV"
   },
   "source": [
    "Contoh pendefinisian CFG"
   ]
  },
  {
   "cell_type": "code",
   "metadata": {
    "id": "kCpjuDi2ZAgs",
    "executionInfo": {
     "status": "ok",
     "timestamp": 1602754040667,
     "user_tz": -420,
     "elapsed": 1665,
     "user": {
      "displayName": "Ade Romadhony",
      "photoUrl": "",
      "userId": "13608730481408932644"
     }
    }
   },
   "source": [
    "grammar_1 = nltk.CFG.fromstring(\"\"\"\n",
    "  S -> NP VP\n",
    "  VP -> V NP | V NP PP\n",
    "  PP -> P NP\n",
    "  V -> \"Melihat\" | \"ate\" | \"walked\"\n",
    "  NP -> \"Amir\" | \"Mona\" | \"Devi\" | Det N | Det N PP\n",
    "  Det -> \"a\" | \"an\" | \"the\" | \"my\"\n",
    "  N -> \"man\" | \"dog\" | \"cat\" | \"telescope\" | \"park\"\n",
    "  P -> \"in\" | \"on\" | \"by\" | \"with\"\n",
    "  \"\"\")"
   ],
   "execution_count": 2,
   "outputs": []
  },
  {
   "cell_type": "markdown",
   "metadata": {
    "id": "BJT2DJkZaOaN"
   },
   "source": [
    "Pendefinisian sebuah contoh kalimat, perhatikan bahwa kalimat ini mengandung ambiguitas"
   ]
  },
  {
   "cell_type": "code",
   "metadata": {
    "id": "ygkPZKiPaRCF",
    "executionInfo": {
     "status": "ok",
     "timestamp": 1602754054635,
     "user_tz": -420,
     "elapsed": 869,
     "user": {
      "displayName": "Ade Romadhony",
      "photoUrl": "",
      "userId": "13608730481408932644"
     }
    }
   },
   "source": [
    "sent_1 = 'Amir Melihat a man with a telescope'.split()"
   ],
   "execution_count": 3,
   "outputs": []
  },
  {
   "cell_type": "markdown",
   "metadata": {
    "id": "10ZntmwXaYgm"
   },
   "source": [
    "Contoh parsing dengan parser Top Down Chart.\n",
    "\n",
    "Perhatikan parse tree yang dihasilkan > 1"
   ]
  },
  {
   "cell_type": "code",
   "metadata": {
    "id": "NZm31svyabeP",
    "executionInfo": {
     "status": "ok",
     "timestamp": 1602754074418,
     "user_tz": -420,
     "elapsed": 831,
     "user": {
      "displayName": "Ade Romadhony",
      "photoUrl": "",
      "userId": "13608730481408932644"
     }
    },
    "outputId": "ac09f6e0-afd4-4b0d-8ca1-d0b4e6ab9715",
    "colab": {
     "base_uri": "https://localhost:8080/",
     "height": 202
    }
   },
   "source": [
    "td_parser = nltk.parse.TopDownChartParser(grammar_1)\n",
    "\n",
    "\n",
    "for tree in td_parser.parse(sent_1):\n",
    "    print(tree)"
   ],
   "execution_count": 4,
   "outputs": [
    {
     "name": "stdout",
     "output_type": "stream",
     "text": [
      "(S\n",
      "  (NP Amir)\n",
      "  (VP\n",
      "    (V Melihat)\n",
      "    (NP (Det a) (N man) (PP (P with) (NP (Det a) (N telescope))))))\n",
      "(S\n",
      "  (NP Amir)\n",
      "  (VP\n",
      "    (V Melihat)\n",
      "    (NP (Det a) (N man))\n",
      "    (PP (P with) (NP (Det a) (N telescope)))))\n"
     ]
    }
   ]
  },
  {
   "cell_type": "markdown",
   "metadata": {
    "id": "TfQq2VDgbOdo"
   },
   "source": [
    "Contoh parsing dengan parser Bottom Up Chart.\n",
    "\n",
    "Perhatikan parse tree yang dihasilkan > 1"
   ]
  },
  {
   "cell_type": "code",
   "metadata": {
    "id": "1Gu4QnfLbS9Z",
    "executionInfo": {
     "status": "ok",
     "timestamp": 1602754125658,
     "user_tz": -420,
     "elapsed": 811,
     "user": {
      "displayName": "Ade Romadhony",
      "photoUrl": "",
      "userId": "13608730481408932644"
     }
    },
    "outputId": "0476d4c7-714f-4da3-9ac7-72361a33ba4f",
    "colab": {
     "base_uri": "https://localhost:8080/",
     "height": 202
    }
   },
   "source": [
    "bu_parser = nltk.parse.BottomUpChartParser(grammar_1)\n",
    "\n",
    "\n",
    "for tree in bu_parser.parse(sent_1):\n",
    "    print(tree)\n"
   ],
   "execution_count": 5,
   "outputs": [
    {
     "name": "stdout",
     "output_type": "stream",
     "text": [
      "(S\n",
      "  (NP Amir)\n",
      "  (VP\n",
      "    (V Melihat)\n",
      "    (NP (Det a) (N man))\n",
      "    (PP (P with) (NP (Det a) (N telescope)))))\n",
      "(S\n",
      "  (NP Amir)\n",
      "  (VP\n",
      "    (V Melihat)\n",
      "    (NP (Det a) (N man) (PP (P with) (NP (Det a) (N telescope))))))\n"
     ]
    }
   ]
  },
  {
   "cell_type": "markdown",
   "metadata": {
    "id": "Fy-IDQ14bd1f"
   },
   "source": [
    "Contoh parsing dengan Shift Reduce parser\n",
    "\n",
    "Perhatikan proses shift-reduce hingga dicapai simbol Start (S)"
   ]
  },
  {
   "cell_type": "code",
   "metadata": {
    "id": "VEVp6urVbg_f",
    "executionInfo": {
     "status": "ok",
     "timestamp": 1602754135139,
     "user_tz": -420,
     "elapsed": 822,
     "user": {
      "displayName": "Ade Romadhony",
      "photoUrl": "",
      "userId": "13608730481408932644"
     }
    },
    "outputId": "fe3ed5f0-acfb-4d63-dcf7-52bd77de68e6",
    "colab": {
     "base_uri": "https://localhost:8080/",
     "height": 370
    }
   },
   "source": [
    "sr_parser = nltk.ShiftReduceParser(grammar_1, trace=2)\n",
    "\n",
    "for tree in sr_parser.parse(sent_1):\n",
    "    print(tree)"
   ],
   "execution_count": 6,
   "outputs": [
    {
     "name": "stdout",
     "output_type": "stream",
     "text": [
      "Parsing 'Amir Melihat a man with a telescope'\n",
      "    [ * Amir Melihat a man with a telescope]\n",
      "  S [ 'Amir' * Melihat a man with a telescope]\n",
      "  R [ NP * Melihat a man with a telescope]\n",
      "  S [ NP 'Melihat' * a man with a telescope]\n",
      "  R [ NP V * a man with a telescope]\n",
      "  S [ NP V 'a' * man with a telescope]\n",
      "  R [ NP V Det * man with a telescope]\n",
      "  S [ NP V Det 'man' * with a telescope]\n",
      "  R [ NP V Det N * with a telescope]\n",
      "  R [ NP V NP * with a telescope]\n",
      "  R [ NP VP * with a telescope]\n",
      "  R [ S * with a telescope]\n",
      "  S [ S 'with' * a telescope]\n",
      "  R [ S P * a telescope]\n",
      "  S [ S P 'a' * telescope]\n",
      "  R [ S P Det * telescope]\n",
      "  S [ S P Det 'telescope' * ]\n",
      "  R [ S P Det N * ]\n",
      "  R [ S P NP * ]\n",
      "  R [ S PP * ]\n"
     ]
    }
   ]
  },
  {
   "cell_type": "markdown",
   "metadata": {
    "id": "FHQz0JZucyMd"
   },
   "source": [
    "Cek apakah Grammar memenuhi syarat CNF.\n",
    "\n",
    "Latihan: coba ubah Grammar tersebut menjadi CNF!"
   ]
  },
  {
   "cell_type": "code",
   "metadata": {
    "id": "XpEIyazBc1XV",
    "executionInfo": {
     "status": "ok",
     "timestamp": 1602754156357,
     "user_tz": -420,
     "elapsed": 1079,
     "user": {
      "displayName": "Ade Romadhony",
      "photoUrl": "",
      "userId": "13608730481408932644"
     }
    },
    "outputId": "68923f1d-e7f1-499b-96d5-9aaf89f0483c",
    "colab": {
     "base_uri": "https://localhost:8080/",
     "height": 34
    }
   },
   "source": [
    " print(grammar_1.is_chomsky_normal_form())"
   ],
   "execution_count": 7,
   "outputs": [
    {
     "name": "stdout",
     "output_type": "stream",
     "text": [
      "False\n"
     ]
    }
   ]
  },
  {
   "cell_type": "markdown",
   "metadata": {
    "id": "1nCizKNVdw6p"
   },
   "source": [
    "Cek coverage Grammar\n",
    "\n",
    "Perhatikan bahwa Grammar grammar_1 belum mengandung kata 'I'"
   ]
  },
  {
   "cell_type": "code",
   "metadata": {
    "id": "MKZeae-Yd1wY",
    "executionInfo": {
     "status": "error",
     "timestamp": 1602754198915,
     "user_tz": -420,
     "elapsed": 831,
     "user": {
      "displayName": "Ade Romadhony",
      "photoUrl": "",
      "userId": "13608730481408932644"
     }
    },
    "outputId": "0d5b3989-d421-409c-fee2-f4031283b09f",
    "colab": {
     "base_uri": "https://localhost:8080/",
     "height": 313
    }
   },
   "source": [
    "sent_2 = 'I Melihat a man with a telescope'.split()\n",
    "\n",
    "for s in sent_2:\n",
    "    grammar_1.check_coverage(sent_2)"
   ],
   "execution_count": 8,
   "outputs": [
    {
     "ename": "ValueError",
     "evalue": "Grammar does not cover some of the input words: \"'I'\".",
     "output_type": "error",
     "traceback": [
      "\u001B[1;31m---------------------------------------------------------------------------\u001B[0m",
      "\u001B[1;31mValueError\u001B[0m                                Traceback (most recent call last)",
      "\u001B[1;32m<ipython-input-8-fbde589e6e4f>\u001B[0m in \u001B[0;36m<module>\u001B[1;34m\u001B[0m\n\u001B[0;32m      2\u001B[0m \u001B[1;33m\u001B[0m\u001B[0m\n\u001B[0;32m      3\u001B[0m \u001B[1;32mfor\u001B[0m \u001B[0ms\u001B[0m \u001B[1;32min\u001B[0m \u001B[0msent_2\u001B[0m\u001B[1;33m:\u001B[0m\u001B[1;33m\u001B[0m\u001B[0m\n\u001B[1;32m----> 4\u001B[1;33m     \u001B[0mgrammar_1\u001B[0m\u001B[1;33m.\u001B[0m\u001B[0mcheck_coverage\u001B[0m\u001B[1;33m(\u001B[0m\u001B[0msent_2\u001B[0m\u001B[1;33m)\u001B[0m\u001B[1;33m\u001B[0m\u001B[0m\n\u001B[0m\u001B[0;32m      5\u001B[0m \u001B[1;33m\u001B[0m\u001B[0m\n",
      "\u001B[1;32md:\\python3.7\\lib\\site-packages\\nltk\\grammar.py\u001B[0m in \u001B[0;36mcheck_coverage\u001B[1;34m(self, tokens)\u001B[0m\n\u001B[0;32m    676\u001B[0m             \u001B[0mmissing\u001B[0m \u001B[1;33m=\u001B[0m \u001B[1;34m\", \"\u001B[0m\u001B[1;33m.\u001B[0m\u001B[0mjoin\u001B[0m\u001B[1;33m(\u001B[0m\u001B[1;34m\"%r\"\u001B[0m \u001B[1;33m%\u001B[0m \u001B[1;33m(\u001B[0m\u001B[0mw\u001B[0m\u001B[1;33m,\u001B[0m\u001B[1;33m)\u001B[0m \u001B[1;32mfor\u001B[0m \u001B[0mw\u001B[0m \u001B[1;32min\u001B[0m \u001B[0mmissing\u001B[0m\u001B[1;33m)\u001B[0m\u001B[1;33m\u001B[0m\u001B[0m\n\u001B[0;32m    677\u001B[0m             raise ValueError(\n\u001B[1;32m--> 678\u001B[1;33m                 \u001B[1;34m\"Grammar does not cover some of the \"\u001B[0m \u001B[1;34m\"input words: %r.\"\u001B[0m \u001B[1;33m%\u001B[0m \u001B[0mmissing\u001B[0m\u001B[1;33m\u001B[0m\u001B[0m\n\u001B[0m\u001B[0;32m    679\u001B[0m             )\n\u001B[0;32m    680\u001B[0m \u001B[1;33m\u001B[0m\u001B[0m\n",
      "\u001B[1;31mValueError\u001B[0m: Grammar does not cover some of the input words: \"'I'\"."
     ]
    }
   ]
  },
  {
   "cell_type": "markdown",
   "metadata": {
    "id": "lrCUe-4gfwBr"
   },
   "source": [
    "Tambahkan aturan produksi / production rule, sehingga kata 'I\" tercakup dalam Grammar"
   ]
  },
  {
   "cell_type": "code",
   "metadata": {
    "id": "KoTZKeg5er7w",
    "executionInfo": {
     "status": "ok",
     "timestamp": 1602754225422,
     "user_tz": -420,
     "elapsed": 825,
     "user": {
      "displayName": "Ade Romadhony",
      "photoUrl": "",
      "userId": "13608730481408932644"
     }
    },
    "outputId": "fb40fca2-f6b4-4237-8170-8d2d46b222e9",
    "colab": {
     "base_uri": "https://localhost:8080/",
     "height": 470
    }
   },
   "source": [
    "grammar_1 = nltk.CFG.fromstring(\"\"\"\n",
    "  S -> NP VP\n",
    "  VP -> V NP | V NP PP\n",
    "  PP -> P NP\n",
    "  V -> \"Melihat\" | \"ate\" | \"walked\"\n",
    "  NP -> \"Amir\" | \"Mona\" | \"Devi\" | \"I\" | Det N | Det N PP\n",
    "  Det -> \"a\" | \"an\" | \"the\" | \"my\"\n",
    "  N -> \"man\" | \"dog\" | \"cat\" | \"telescope\" | \"park\"\n",
    "  P -> \"in\" | \"on\" | \"by\" | \"with\"\n",
    "  \"\"\")\n",
    "print(grammar_1)"
   ],
   "execution_count": null,
   "outputs": []
  },
  {
   "cell_type": "markdown",
   "metadata": {
    "id": "1qZLv2Yqf5MD"
   },
   "source": [
    "Cek apakah kata kalimat sent_2 sudah dapat diproses oleh Grammar grammar_1"
   ]
  },
  {
   "cell_type": "code",
   "metadata": {
    "id": "DjQKxeEgf_xC",
    "executionInfo": {
     "status": "ok",
     "timestamp": 1602754232432,
     "user_tz": -420,
     "elapsed": 825,
     "user": {
      "displayName": "Ade Romadhony",
      "photoUrl": "",
      "userId": "13608730481408932644"
     }
    },
    "outputId": "551ee4b2-a40b-4043-9d2f-084120689dd4",
    "colab": {
     "base_uri": "https://localhost:8080/",
     "height": 134
    }
   },
   "source": [
    "for s in sent_2:\n",
    "    print('cek kata:',s)\n",
    "    grammar_1.check_coverage(sent_2)"
   ],
   "execution_count": null,
   "outputs": []
  },
  {
   "cell_type": "markdown",
   "metadata": {
    "id": "CYRkifdhj5B2"
   },
   "source": [
    "Generate sentence sesuai Grammar grammar_1"
   ]
  },
  {
   "cell_type": "code",
   "metadata": {
    "id": "-1SeDoPIj9Xj",
    "executionInfo": {
     "status": "ok",
     "timestamp": 1602754239062,
     "user_tz": -420,
     "elapsed": 818,
     "user": {
      "displayName": "Ade Romadhony",
      "photoUrl": "",
      "userId": "13608730481408932644"
     }
    },
    "outputId": "d073e728-fd7f-4be2-c948-6df7357cd48a",
    "colab": {
     "base_uri": "https://localhost:8080/",
     "height": 185
    }
   },
   "source": [
    "for sentence in generate(grammar_1, n=10):\n",
    "    print(' '.join(sentence))"
   ],
   "execution_count": null,
   "outputs": []
  },
  {
   "cell_type": "markdown",
   "metadata": {
    "id": "hjY018lKp1lr"
   },
   "source": [
    "Coba generate Grammar dari file constituency treebank\n",
    "\n",
    "Contoh yang digunakan di sini adalah 5 kalimat awal dari Constituency Treebank Bahasa Indonesia, kethu https://github.com/ialfina/kethu\n",
    "\n",
    "Upload file **kethu_example.mrg** ke Google Drive anda!\n",
    "\n",
    "Perhatikan bahwa Anda perlu **menyesuaikan path lokasi file .mrg**"
   ]
  },
  {
   "cell_type": "code",
   "metadata": {
    "id": "o6gTv_4Z53Di"
   },
   "source": [
    "from google.colab import drive\n",
    "drive.mount('/content/drive')"
   ],
   "execution_count": null,
   "outputs": []
  },
  {
   "cell_type": "code",
   "metadata": {
    "id": "ly0-CAd0ll8d",
    "executionInfo": {
     "status": "ok",
     "timestamp": 1602659050590,
     "user_tz": -420,
     "elapsed": 30558,
     "user": {
      "displayName": "SAID AL FARABY",
      "photoUrl": "",
      "userId": "03207939048868647964"
     }
    },
    "outputId": "6c50f822-4b13-4a67-e064-aa41641a5194",
    "colab": {
     "base_uri": "https://localhost:8080/",
     "height": 88
    }
   },
   "source": [
    "from nltk.corpus import BracketParseCorpusReader\n",
    "\n",
    "ptb = BracketParseCorpusReader(r\"/content/drive/My Drive/TU/PERKULIAHAN/NLP\", r\".*/*\\.mrg\")\n",
    "\n",
    "print(ptb)\n",
    "print(ptb.sents())\n",
    "print(ptb.parsed_sents())"
   ],
   "execution_count": null,
   "outputs": []
  },
  {
   "cell_type": "markdown",
   "metadata": {
    "id": "R5MMxNdsqOW5"
   },
   "source": [
    "Induksi PCFG (Probabilistic Context Free Grammar) dari constituency Treebank"
   ]
  },
  {
   "cell_type": "code",
   "metadata": {
    "id": "bSDbinBznBSq",
    "executionInfo": {
     "status": "ok",
     "timestamp": 1602659086253,
     "user_tz": -420,
     "elapsed": 1099,
     "user": {
      "displayName": "SAID AL FARABY",
      "photoUrl": "",
      "userId": "03207939048868647964"
     }
    },
    "outputId": "9e71c331-dfc8-423b-ac37-9cc934df0477",
    "colab": {
     "base_uri": "https://localhost:8080/",
     "height": 1000
    }
   },
   "source": [
    "from nltk import Nonterminal, nonterminals, Production, PCFG, induce_pcfg\n",
    "\n",
    "S = Nonterminal('S')\n",
    "\n",
    "productions = []\n",
    "for t in ptb.parsed_sents():\n",
    "    productions += t.productions()\n",
    "grammar_3 = induce_pcfg(S, productions)\n",
    "print(grammar_3)"
   ],
   "execution_count": null,
   "outputs": []
  },
  {
   "cell_type": "markdown",
   "metadata": {
    "id": "AwZcTRi7qXoT"
   },
   "source": [
    "Coba tes parse sebuah kalimat dengan grammar hasil induksi"
   ]
  },
  {
   "cell_type": "code",
   "metadata": {
    "id": "ze2fSFo4qmBB",
    "executionInfo": {
     "status": "ok",
     "timestamp": 1602659090613,
     "user_tz": -420,
     "elapsed": 1132,
     "user": {
      "displayName": "SAID AL FARABY",
      "photoUrl": "",
      "userId": "03207939048868647964"
     }
    },
    "outputId": "9498c80a-be78-4937-bda8-677f7321bff1",
    "colab": {
     "base_uri": "https://localhost:8080/",
     "height": 221
    }
   },
   "source": [
    "sent_3 = 'ribuan monyet amankan pesta'.split()\n",
    "# contoh menggunakan bottom-up parser\n",
    "bu_parser = nltk.parse.BottomUpChartParser(grammar_3)\n",
    "\n",
    "for tree in bu_parser.parse(sent_3):\n",
    "    print(tree)"
   ],
   "execution_count": null,
   "outputs": []
  },
  {
   "cell_type": "markdown",
   "metadata": {
    "id": "QkZvb6kMCgQP"
   },
   "source": [
    "Tes parsing dengan Viterbi Parser, yang akan mengembalikan 1 pohon parse dengan probability total paling tinggi"
   ]
  },
  {
   "cell_type": "code",
   "metadata": {
    "id": "XMLYxBAuCmTD",
    "executionInfo": {
     "status": "ok",
     "timestamp": 1602659160768,
     "user_tz": -420,
     "elapsed": 1034,
     "user": {
      "displayName": "SAID AL FARABY",
      "photoUrl": "",
      "userId": "03207939048868647964"
     }
    },
    "outputId": "7176ac8f-71bf-4ffe-8768-9ed6dd055ed5",
    "colab": {
     "base_uri": "https://localhost:8080/",
     "height": 731
    }
   },
   "source": [
    "from nltk.parse import ViterbiParser\n",
    "\n",
    "sent_3 = 'ribuan monyet amankan pesta'.split()\n",
    "# contoh menggunakan bottom-up parser\n",
    "parser = ViterbiParser(grammar_3, trace=2)\n",
    "for t in parser.parse(sent_3):\n",
    "    t.pretty_print()"
   ],
   "execution_count": null,
   "outputs": []
  },
  {
   "cell_type": "code",
   "metadata": {
    "id": "NxHSbM3Z7g5n"
   },
   "source": [
    ""
   ],
   "execution_count": null,
   "outputs": []
  }
 ]
}